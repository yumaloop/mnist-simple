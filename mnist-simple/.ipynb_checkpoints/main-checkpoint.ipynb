{
 "cells": [
  {
   "cell_type": "code",
   "execution_count": 58,
   "metadata": {},
   "outputs": [],
   "source": [
    "import os\n",
    "import shutil\n",
    "import h5py\n",
    "import json\n",
    "import re\n",
    "import numpy as np\n",
    "import tensorflow as tf\n",
    "from datetime import datetime"
   ]
  },
  {
   "cell_type": "code",
   "execution_count": 60,
   "metadata": {},
   "outputs": [],
   "source": [
    "# set path\n",
    "\n",
    "# このファイルのpath\n",
    "FILE_PATH=\"/home/uchiumi/mnist-mi/main.py\"\n",
    "\n",
    "# モデルのユニークな名前\n",
    "MODEL_NAME=\"mnist_\"+datetime.now().strftime(\"%Y-%m-%d-%H-%M-%S\")\n",
    "\n",
    "# logの下に，ディレクトリ: \"MODEL_NAME\" を作成\n",
    "LOG_DIR=os.path.join(\"./log\", MODEL_NAME)\n",
    "if not os.path.exists(LOG_DIR): os.makedirs(LOG_DIR)\n",
    "\n",
    "\n",
    "# ------------------------------------------------------------------------------------\n",
    "\n",
    "# 学習に用いたmainファイルをコピー\n",
    "MODEL_MAIN_PATH    = os.path.join(LOG_DIR, 'main.py')\n",
    "shutil.copyfile(FILE_PATH, MODEL_MAIN_PATH)\n",
    "\n",
    "# 学習中，もっとも精度(val acc)の高い重みをH5ファイルで保存\n",
    "MODEL_WEIGHT_CKP_PATH = os.path.join(LOG_DIR, \"best_weights.h5\")\n",
    "# 学習中の各指標をcsvファイルとして保存\n",
    "MODEL_TRAIN_LOG_CSV_PATH=os.path.join(LOG_DIR, \"train_log.csv\")"
   ]
  },
  {
   "cell_type": "code",
   "execution_count": 10,
   "metadata": {},
   "outputs": [],
   "source": [
    "mnist = tf.keras.datasets.mnist"
   ]
  },
  {
   "cell_type": "code",
   "execution_count": 18,
   "metadata": {},
   "outputs": [
    {
     "name": "stdout",
     "output_type": "stream",
     "text": [
      "X_train :  (60000, 28, 28)\n",
      "y_train :  (60000,)\n",
      "X_test :  (10000, 28, 28)\n",
      "y_test :  (10000,)\n"
     ]
    }
   ],
   "source": [
    "# データ読み込み\n",
    "(X_train, y_train),(X_test, y_test) = mnist.load_data()\n",
    "\n",
    "print(\"X_train : \", X_train.shape)\n",
    "print(\"y_train : \", y_train.shape)\n",
    "print(\"X_test : \", X_test.shape)\n",
    "print(\"y_test : \", y_test.shape)"
   ]
  },
  {
   "cell_type": "code",
   "execution_count": 17,
   "metadata": {},
   "outputs": [],
   "source": [
    "# 正規化\n",
    "X_train, X_test = X_train / 255.0, X_test / 255.0"
   ]
  },
  {
   "cell_type": "code",
   "execution_count": 44,
   "metadata": {},
   "outputs": [
    {
     "name": "stdout",
     "output_type": "stream",
     "text": [
      "_________________________________________________________________\n",
      "Layer (type)                 Output Shape              Param #   \n",
      "=================================================================\n",
      "input (Flatten)              (None, 784)               0         \n",
      "_________________________________________________________________\n",
      "dense_1 (Dense)              (None, 256)               200960    \n",
      "_________________________________________________________________\n",
      "relu_1 (Activation)          (None, 256)               0         \n",
      "_________________________________________________________________\n",
      "dropout_1 (Dropout)          (None, 256)               0         \n",
      "_________________________________________________________________\n",
      "dense_2 (Dense)              (None, 256)               65792     \n",
      "_________________________________________________________________\n",
      "relu_2 (Activation)          (None, 256)               0         \n",
      "_________________________________________________________________\n",
      "dropout_2 (Dropout)          (None, 256)               0         \n",
      "_________________________________________________________________\n",
      "dense_3 (Dense)              (None, 10)                2570      \n",
      "_________________________________________________________________\n",
      "softmax (Activation)         (None, 10)                0         \n",
      "=================================================================\n",
      "Total params: 269,322\n",
      "Trainable params: 269,322\n",
      "Non-trainable params: 0\n",
      "_________________________________________________________________\n"
     ]
    }
   ],
   "source": [
    "# モデル\n",
    "model = tf.keras.models.Sequential([\n",
    "  tf.keras.layers.Flatten(input_shape=(28, 28), name='input'),\n",
    "    \n",
    "  tf.keras.layers.Dense(256, name='dense_1'),\n",
    "  tf.keras.layers.Activation(tf.nn.relu, name='relu_1'),\n",
    "  tf.keras.layers.Dropout(0.2, name='dropout_1'),\n",
    "    \n",
    "  tf.keras.layers.Dense(256, name='dense_2'),\n",
    "  tf.keras.layers.Activation(tf.nn.relu, name='relu_2'),\n",
    "  tf.keras.layers.Dropout(0.2, name='dropout_2'),\n",
    "    \n",
    "  tf.keras.layers.Dense(10, name='dense_3'),\n",
    "  tf.keras.layers.Activation(tf.nn.softmax, name='softmax')\n",
    "])\n",
    "\n",
    "model.summary()"
   ]
  },
  {
   "cell_type": "code",
   "execution_count": 46,
   "metadata": {},
   "outputs": [],
   "source": [
    "# モデルのコンパイル\n",
    "model.compile(optimizer='adam',\n",
    "              loss='sparse_categorical_crossentropy',\n",
    "              metrics=['accuracy'])"
   ]
  },
  {
   "cell_type": "code",
   "execution_count": null,
   "metadata": {},
   "outputs": [],
   "source": [
    "# set callbacks\n",
    "callbacks = []\n",
    "callbacks.append(ModelCheckpoint(MODEL_WEIGHT_CKP_PATH, monitor='val_loss', save_best_only=True, save_weights_only=True))\n",
    "callbacks.append(CSVLogger(MODEL_TRAIN_LOG_CSV_PATH))\n",
    "callbacks.append(LearningRateScheduler(lambda epoch: float(learning_rates[epoch])))"
   ]
  },
  {
   "cell_type": "code",
   "execution_count": 47,
   "metadata": {},
   "outputs": [
    {
     "name": "stdout",
     "output_type": "stream",
     "text": [
      "Epoch 1/30\n",
      "60000/60000 [==============================] - 2s 27us/step - loss: 0.3551 - acc: 0.8944\n",
      "Epoch 2/30\n",
      "60000/60000 [==============================] - 1s 19us/step - loss: 0.1396 - acc: 0.9581\n",
      "Epoch 3/30\n",
      "60000/60000 [==============================] - 1s 19us/step - loss: 0.1011 - acc: 0.9694\n",
      "Epoch 4/30\n",
      "60000/60000 [==============================] - 1s 19us/step - loss: 0.0781 - acc: 0.9760\n",
      "Epoch 5/30\n",
      "60000/60000 [==============================] - 1s 20us/step - loss: 0.0656 - acc: 0.9790\n",
      "Epoch 6/30\n",
      "60000/60000 [==============================] - 1s 20us/step - loss: 0.0569 - acc: 0.9821\n",
      "Epoch 7/30\n",
      "60000/60000 [==============================] - 1s 20us/step - loss: 0.0470 - acc: 0.9846\n",
      "Epoch 8/30\n",
      "60000/60000 [==============================] - 1s 20us/step - loss: 0.0402 - acc: 0.9872\n",
      "Epoch 9/30\n",
      "60000/60000 [==============================] - 1s 20us/step - loss: 0.0380 - acc: 0.9878\n",
      "Epoch 10/30\n",
      "60000/60000 [==============================] - 1s 20us/step - loss: 0.0302 - acc: 0.9901\n",
      "Epoch 11/30\n",
      "60000/60000 [==============================] - 1s 20us/step - loss: 0.0298 - acc: 0.9901\n",
      "Epoch 12/30\n",
      "60000/60000 [==============================] - 1s 20us/step - loss: 0.0277 - acc: 0.9905\n",
      "Epoch 13/30\n",
      "60000/60000 [==============================] - 1s 20us/step - loss: 0.0272 - acc: 0.9909\n",
      "Epoch 14/30\n",
      "60000/60000 [==============================] - 1s 20us/step - loss: 0.0233 - acc: 0.9922\n",
      "Epoch 15/30\n",
      "60000/60000 [==============================] - 1s 20us/step - loss: 0.0230 - acc: 0.9924\n",
      "Epoch 16/30\n",
      "60000/60000 [==============================] - 1s 20us/step - loss: 0.0200 - acc: 0.9929\n",
      "Epoch 17/30\n",
      "60000/60000 [==============================] - 1s 20us/step - loss: 0.0211 - acc: 0.9927\n",
      "Epoch 18/30\n",
      "60000/60000 [==============================] - 1s 20us/step - loss: 0.0191 - acc: 0.9936\n",
      "Epoch 19/30\n",
      "60000/60000 [==============================] - 1s 20us/step - loss: 0.0169 - acc: 0.9940\n",
      "Epoch 20/30\n",
      "60000/60000 [==============================] - 1s 20us/step - loss: 0.0192 - acc: 0.9935\n",
      "Epoch 21/30\n",
      "60000/60000 [==============================] - 1s 20us/step - loss: 0.0164 - acc: 0.9944\n",
      "Epoch 22/30\n",
      "60000/60000 [==============================] - 1s 20us/step - loss: 0.0172 - acc: 0.9938\n",
      "Epoch 23/30\n",
      "60000/60000 [==============================] - 1s 18us/step - loss: 0.0163 - acc: 0.9945\n",
      "Epoch 24/30\n",
      "60000/60000 [==============================] - 1s 19us/step - loss: 0.0159 - acc: 0.9944\n",
      "Epoch 25/30\n",
      "60000/60000 [==============================] - 1s 17us/step - loss: 0.0172 - acc: 0.9945\n",
      "Epoch 26/30\n",
      "60000/60000 [==============================] - 1s 19us/step - loss: 0.0142 - acc: 0.9954\n",
      "Epoch 27/30\n",
      "60000/60000 [==============================] - 1s 19us/step - loss: 0.0147 - acc: 0.9954\n",
      "Epoch 28/30\n",
      "60000/60000 [==============================] - 1s 19us/step - loss: 0.0130 - acc: 0.9959\n",
      "Epoch 29/30\n",
      "60000/60000 [==============================] - 1s 19us/step - loss: 0.0140 - acc: 0.9952\n",
      "Epoch 30/30\n",
      "60000/60000 [==============================] - 1s 20us/step - loss: 0.0128 - acc: 0.9959\n"
     ]
    },
    {
     "data": {
      "text/plain": [
       "<tensorflow.python.keras.callbacks.History at 0x7f169c454e10>"
      ]
     },
     "execution_count": 47,
     "metadata": {},
     "output_type": "execute_result"
    }
   ],
   "source": [
    "# モデルの学習\n",
    "history = model.fit(X_train, \n",
    "          y_train, \n",
    "          batch_size=200, \n",
    "          verbose=1, \n",
    "          epochs=30)"
   ]
  },
  {
   "cell_type": "code",
   "execution_count": 49,
   "metadata": {},
   "outputs": [
    {
     "name": "stdout",
     "output_type": "stream",
     "text": [
      "10000/10000 [==============================] - 0s 45us/step\n",
      "validation loss      :  0.07208822945934572\n",
      "validation accuracy  :  0.9843\n"
     ]
    }
   ],
   "source": [
    "# 評価\n",
    "val_loss, val_acc = model.evaluate(x_test, y_test, verbose=1)\n",
    "\n",
    "print(\"validation loss      : \", val_loss)\n",
    "print(\"validation accuracy  : \", val_acc)"
   ]
  },
  {
   "cell_type": "code",
   "execution_count": null,
   "metadata": {},
   "outputs": [],
   "source": []
  },
  {
   "cell_type": "code",
   "execution_count": null,
   "metadata": {},
   "outputs": [],
   "source": []
  },
  {
   "cell_type": "code",
   "execution_count": null,
   "metadata": {},
   "outputs": [],
   "source": []
  },
  {
   "cell_type": "code",
   "execution_count": null,
   "metadata": {},
   "outputs": [],
   "source": []
  },
  {
   "cell_type": "code",
   "execution_count": null,
   "metadata": {},
   "outputs": [],
   "source": []
  },
  {
   "cell_type": "code",
   "execution_count": null,
   "metadata": {},
   "outputs": [],
   "source": []
  },
  {
   "cell_type": "code",
   "execution_count": null,
   "metadata": {},
   "outputs": [],
   "source": []
  },
  {
   "cell_type": "code",
   "execution_count": 64,
   "metadata": {},
   "outputs": [
    {
     "name": "stdout",
     "output_type": "stream",
     "text": [
      "successfully completed :  saving model \"INSTANCE\" as HDF5 file in the log directory.\n",
      "successfully completed :  saving model \"ARCHITECHTURE\" as JSON file in the log directory.\n"
     ]
    }
   ],
   "source": [
    "# save model \"INSTANCE\"\n",
    "ins_name = 'model_instance'\n",
    "ins_path = os.path.join(LOG_DIR, ins_name) + '.h5'\n",
    "model.save(ins_path)\n",
    "print('successfully completed :  saving model \"INSTANCE\" as HDF5 file in the log directory.')\n",
    "\n",
    "# save model \"ARCHITECHTURE\"\n",
    "arch_name = 'model_fin_architechture'\n",
    "arch_path = os.path.join(LOG_DIR, arch_name) + '.json'\n",
    "json_string = model.to_json()\n",
    "with open(arch_path, 'w') as f:\n",
    "    f.write(json_string)\n",
    "print('successfully completed :  saving model \"ARCHITECHTURE\" as JSON file in the log directory.')"
   ]
  },
  {
   "cell_type": "code",
   "execution_count": null,
   "metadata": {},
   "outputs": [],
   "source": []
  }
 ],
 "metadata": {
  "kernelspec": {
   "display_name": "Python 3",
   "language": "python",
   "name": "python3"
  },
  "language_info": {
   "codemirror_mode": {
    "name": "ipython",
    "version": 3
   },
   "file_extension": ".py",
   "mimetype": "text/x-python",
   "name": "python",
   "nbconvert_exporter": "python",
   "pygments_lexer": "ipython3",
   "version": "3.5.2"
  }
 },
 "nbformat": 4,
 "nbformat_minor": 2
}
